{
 "cells": [
  {
   "metadata": {},
   "cell_type": "markdown",
   "source": [
    "# Практическое задание 6: Использование spaCy для Named Entity Recognition (NER)\n",
    "\n",
    "**Цель:**\n",
    "Освоить извлечение именованных сущностей (NER) из текста с помощью библиотеки spaCy, визуализировать сущности и добавить пользовательские сущности.\n"
   ],
   "id": "ac764bcd197650e7"
  },
  {
   "metadata": {},
   "cell_type": "markdown",
   "source": [
    "## Шаг 1: Установка spaCy и модели для английского языка\n",
    "\n",
    "Запуск следующих команд в терминале для установки spaCy и модели для английского языка:\n",
    "```bash\n",
    "pip install spacy\n",
    "python -m spacy download en_core_web_sm\n",
    "```\n"
   ],
   "id": "557dadd85b449ae5"
  },
  {
   "metadata": {
    "ExecuteTime": {
     "end_time": "2025-03-12T16:33:25.684036Z",
     "start_time": "2025-03-12T16:33:25.513890Z"
    }
   },
   "cell_type": "code",
   "source": [
    "import spacy\n",
    "\n",
    "# Загрузка модели\n",
    "nlp = spacy.load(\"en_core_web_sm\")\n"
   ],
   "id": "49a0f07908bd8097",
   "outputs": [],
   "execution_count": 22
  },
  {
   "metadata": {},
   "cell_type": "markdown",
   "source": [
    "## Шаг 2: Извлечение именованных сущностей из текста\n",
    "\n",
    "Используйте spaCy для анализа текста и извлечения именованных сущностей.\n"
   ],
   "id": "6202ce2fcf8a2a06"
  },
  {
   "metadata": {
    "ExecuteTime": {
     "end_time": "2025-03-12T16:33:25.696612Z",
     "start_time": "2025-03-12T16:33:25.688177Z"
    }
   },
   "cell_type": "code",
   "source": [
    "text = \"\"\"\n",
    "Kazakhstan hosted Expo 2017 in Astana, now known as Nur-Sultan.\n",
    "The event attracted over 4 million visitors from around the world.\n",
    "\"\"\"\n",
    "\n",
    "doc = nlp(text)\n",
    "\n",
    "print(\"Extracted Named Entities:\")\n",
    "for ent in doc.ents:\n",
    "    print(f\"{ent.text} ({ent.label_})\")\n"
   ],
   "id": "42dd77489c273519",
   "outputs": [
    {
     "name": "stdout",
     "output_type": "stream",
     "text": [
      "Extracted Named Entities:\n",
      "Kazakhstan (GPE)\n",
      "Astana (GPE)\n",
      "Nur-Sultan (PERSON)\n",
      "over 4 million (CARDINAL)\n"
     ]
    }
   ],
   "execution_count": 23
  },
  {
   "metadata": {},
   "cell_type": "markdown",
   "source": [
    "## Шаг 3: Группировка сущностей по категориям (типам)\n",
    "\n",
    "Используем словарь для группировки сущностей по их типам (меткам).\n"
   ],
   "id": "6244ac6da021d2ea"
  },
  {
   "metadata": {
    "ExecuteTime": {
     "end_time": "2025-03-12T16:33:25.704914Z",
     "start_time": "2025-03-12T16:33:25.702816Z"
    }
   },
   "cell_type": "code",
   "source": [
    "from collections import defaultdict\n",
    "\n",
    "entities_by_label = defaultdict(list)\n",
    "\n",
    "for ent in doc.ents:\n",
    "    entities_by_label[ent.label_].append(ent.text)\n",
    "\n",
    "print(\"Сущности, сгруппированные по категориям:\")\n",
    "for label, entities in entities_by_label.items():\n",
    "    print(f\"{label}: {', '.join(entities)}\")\n"
   ],
   "id": "42fed69cd7023506",
   "outputs": [
    {
     "name": "stdout",
     "output_type": "stream",
     "text": [
      "Сущности, сгруппированные по категориям:\n",
      "GPE: Kazakhstan, Astana\n",
      "PERSON: Nur-Sultan\n",
      "CARDINAL: over 4 million\n"
     ]
    }
   ],
   "execution_count": 24
  },
  {
   "metadata": {},
   "cell_type": "markdown",
   "source": [
    "## Шаг 4: Визуализация именованных сущностей с помощью displaCy\n",
    "\n",
    "Создаем визуализацию извлечённых сущностей и сохраняем её в HTML-файл.\n"
   ],
   "id": "92ff265e54a492a2"
  },
  {
   "metadata": {
    "ExecuteTime": {
     "end_time": "2025-03-12T16:33:25.715768Z",
     "start_time": "2025-03-12T16:33:25.713407Z"
    }
   },
   "cell_type": "code",
   "source": [
    "from spacy import displacy\n",
    "\n",
    "# Визуализация сущностей в Jupyter\n",
    "displacy.render(doc, style=\"ent\", jupyter=True)\n"
   ],
   "id": "a638f49f9ef04775",
   "outputs": [
    {
     "data": {
      "text/plain": [
       "<IPython.core.display.HTML object>"
      ],
      "text/html": [
       "<span class=\"tex2jax_ignore\"><div class=\"entities\" style=\"line-height: 2.5; direction: ltr\"><br>\n",
       "<mark class=\"entity\" style=\"background: #feca74; padding: 0.45em 0.6em; margin: 0 0.25em; line-height: 1; border-radius: 0.35em;\">\n",
       "    Kazakhstan\n",
       "    <span style=\"font-size: 0.8em; font-weight: bold; line-height: 1; border-radius: 0.35em; vertical-align: middle; margin-left: 0.5rem\">GPE</span>\n",
       "</mark>\n",
       " hosted Expo 2017 in \n",
       "<mark class=\"entity\" style=\"background: #feca74; padding: 0.45em 0.6em; margin: 0 0.25em; line-height: 1; border-radius: 0.35em;\">\n",
       "    Astana\n",
       "    <span style=\"font-size: 0.8em; font-weight: bold; line-height: 1; border-radius: 0.35em; vertical-align: middle; margin-left: 0.5rem\">GPE</span>\n",
       "</mark>\n",
       ", now known as \n",
       "<mark class=\"entity\" style=\"background: #aa9cfc; padding: 0.45em 0.6em; margin: 0 0.25em; line-height: 1; border-radius: 0.35em;\">\n",
       "    Nur-Sultan\n",
       "    <span style=\"font-size: 0.8em; font-weight: bold; line-height: 1; border-radius: 0.35em; vertical-align: middle; margin-left: 0.5rem\">PERSON</span>\n",
       "</mark>\n",
       ".<br>The event attracted \n",
       "<mark class=\"entity\" style=\"background: #e4e7d2; padding: 0.45em 0.6em; margin: 0 0.25em; line-height: 1; border-radius: 0.35em;\">\n",
       "    over 4 million\n",
       "    <span style=\"font-size: 0.8em; font-weight: bold; line-height: 1; border-radius: 0.35em; vertical-align: middle; margin-left: 0.5rem\">CARDINAL</span>\n",
       "</mark>\n",
       " visitors from around the world.<br></div></span>"
      ]
     },
     "metadata": {},
     "output_type": "display_data"
    }
   ],
   "execution_count": 25
  },
  {
   "metadata": {
    "ExecuteTime": {
     "end_time": "2025-03-12T16:33:25.728431Z",
     "start_time": "2025-03-12T16:33:25.725849Z"
    }
   },
   "cell_type": "code",
   "source": [
    "# Сохранение визуализации в HTML-файл (Исправленный код)\n",
    "html = displacy.render(doc, style=\"ent\", jupyter=False)  # Убираем page=True\n",
    "\n",
    "if html:  # Проверяем, что html не None\n",
    "    with open(\"ner_visualization.html\", \"w\", encoding=\"utf-8\") as f:\n",
    "        f.write(html)\n",
    "    print(\"HTML файл успешно сохранен!\")\n",
    "else:\n",
    "    print(\"Ошибка: displacy.render() вернул None.\")\n"
   ],
   "id": "e0613d2431d018d5",
   "outputs": [
    {
     "name": "stdout",
     "output_type": "stream",
     "text": [
      "HTML файл успешно сохранен!\n"
     ]
    }
   ],
   "execution_count": 26
  },
  {
   "metadata": {},
   "cell_type": "markdown",
   "source": [
    "## Шаг 4: Добавление пользовательских сущностей вручную\n",
    "\n",
    "В случае, если модель не распознала нужные сущности, их можно добавить вручную.\n"
   ],
   "id": "61a1dc005832d530"
  },
  {
   "metadata": {
    "ExecuteTime": {
     "end_time": "2025-03-12T16:33:25.744081Z",
     "start_time": "2025-03-12T16:33:25.736550Z"
    }
   },
   "cell_type": "code",
   "source": [
    "from spacy.tokens import Span\n",
    "\n",
    "custom_text = \"Satbayev University is one of the leading universities in Almaty.\"\n",
    "doc_custom = nlp(custom_text)  # Process text with spaCy\n",
    "\n",
    "# Создаем новую сущность (Satbayev University как ORG)\n",
    "new_entity = Span(doc_custom, 0, 2, label=\"ORG\")\n",
    "\n",
    "# Перезаписываем сущности с учетом новой\n",
    "doc_custom.set_ents([new_entity], default=\"unmodified\")\n",
    "\n",
    "# Печать обновленных сущностей\n",
    "print(\"Обновленные сущности:\")\n",
    "for ent in doc_custom.ents:\n",
    "    print(f\"{ent.text} ({ent.label_})\")\n",
    "\n",
    "# Визуализация в Jupyter Notebook\n",
    "displacy.render(doc_custom, style=\"ent\", jupyter=True)\n"
   ],
   "id": "e67472dc67b6d7ca",
   "outputs": [
    {
     "name": "stdout",
     "output_type": "stream",
     "text": [
      "Обновленные сущности:\n",
      "Satbayev University (ORG)\n",
      "Almaty (GPE)\n"
     ]
    },
    {
     "data": {
      "text/plain": [
       "<IPython.core.display.HTML object>"
      ],
      "text/html": [
       "<span class=\"tex2jax_ignore\"><div class=\"entities\" style=\"line-height: 2.5; direction: ltr\">\n",
       "<mark class=\"entity\" style=\"background: #7aecec; padding: 0.45em 0.6em; margin: 0 0.25em; line-height: 1; border-radius: 0.35em;\">\n",
       "    Satbayev University\n",
       "    <span style=\"font-size: 0.8em; font-weight: bold; line-height: 1; border-radius: 0.35em; vertical-align: middle; margin-left: 0.5rem\">ORG</span>\n",
       "</mark>\n",
       " is one of the leading universities in \n",
       "<mark class=\"entity\" style=\"background: #feca74; padding: 0.45em 0.6em; margin: 0 0.25em; line-height: 1; border-radius: 0.35em;\">\n",
       "    Almaty\n",
       "    <span style=\"font-size: 0.8em; font-weight: bold; line-height: 1; border-radius: 0.35em; vertical-align: middle; margin-left: 0.5rem\">GPE</span>\n",
       "</mark>\n",
       ".</div></span>"
      ]
     },
     "metadata": {},
     "output_type": "display_data"
    }
   ],
   "execution_count": 27
  }
 ],
 "metadata": {
  "kernelspec": {
   "display_name": "Python 3",
   "language": "python",
   "name": "python3"
  },
  "language_info": {
   "codemirror_mode": {
    "name": "ipython",
    "version": 2
   },
   "file_extension": ".py",
   "mimetype": "text/x-python",
   "name": "python",
   "nbconvert_exporter": "python",
   "pygments_lexer": "ipython2",
   "version": "2.7.6"
  }
 },
 "nbformat": 4,
 "nbformat_minor": 5
}
