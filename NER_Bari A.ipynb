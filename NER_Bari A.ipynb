{
 "cells": [
  {
   "cell_type": "markdown",
   "id": "ac764bcd197650e7",
   "metadata": {},
   "source": [
    "# Практическое задание 6: Использование spaCy для Named Entity Recognition (NER)\n",
    "\n",
    "**Цель:**\n",
    "Освоить извлечение именованных сущностей (NER) из текста с помощью библиотеки spaCy, визуализировать сущности и добавить пользовательские сущности.\n"
   ]
  },
  {
   "cell_type": "markdown",
   "id": "557dadd85b449ae5",
   "metadata": {},
   "source": [
    "## Шаг 1: Установка spaCy и модели для английского языка\n",
    "\n",
    "Запуск следующих команд в терминале для установки spaCy и модели для английского языка:\n",
    "```bash\n",
    "pip install spacy\n",
    "python -m spacy download en_core_web_sm\n",
    "```\n"
   ]
  },
  {
   "cell_type": "code",
   "id": "49a0f07908bd8097",
   "metadata": {
    "ExecuteTime": {
     "end_time": "2025-03-12T16:41:41.978433Z",
     "start_time": "2025-03-12T16:41:41.812760Z"
    }
   },
   "source": [
    "import spacy\n",
    "\n",
    "# Загрузка модели\n",
    "nlp = spacy.load(\"en_core_web_sm\")\n"
   ],
   "outputs": [],
   "execution_count": 28
  },
  {
   "cell_type": "markdown",
   "id": "6202ce2fcf8a2a06",
   "metadata": {},
   "source": [
    "## Шаг 2: Извлечение именованных сущностей из текста\n",
    "\n",
    "Используйте spaCy для анализа текста и извлечения именованных сущностей.\n"
   ]
  },
  {
   "cell_type": "code",
   "id": "42dd77489c273519",
   "metadata": {
    "ExecuteTime": {
     "end_time": "2025-03-12T16:41:42.023304Z",
     "start_time": "2025-03-12T16:41:41.982745Z"
    }
   },
   "source": [
    "text = \"\"\"\n",
    "Kazakhstan hosted Expo 2017 in Astana, marking the first time a Central Asian country organized a world exposition.\n",
    "The event attracted over 4 million visitors from around the world and featured participation from 115 countries and 22 international organizations.\n",
    "The theme of the exhibition was 'Future Energy,' aiming to address global challenges related to renewable energy, energy efficiency, and environmental sustainability.\n",
    "Pavilions showcased innovations in solar, wind, and hydro energy, as well as smart grid technologies.\n",
    "\n",
    "The United Nations, the World Bank, the European Union, and the International Renewable Energy Agency (IRENA) were among the key participants.\n",
    "Notable world leaders, including Emmanuel Macron, Vladimir Putin, and Xi Jinping, visited the event, reinforcing Kazakhstan's role in international diplomacy.\n",
    "During the exposition, major technology and energy corporations such as Tesla, Siemens, General Electric, Shell, and Rosatom presented cutting-edge developments in sustainable energy.\n",
    "\n",
    "The financial investment in the Expo 2017 infrastructure exceeded $3 billion.\n",
    "Following the event, the Expo site was transformed into the Astana International Financial Centre (AIFC), which became a hub for financial and technological innovation in Eurasia.\n",
    "Additionally, the area now hosts the Nazarbayev University research campus and the Astana Hub for IT startups.\n",
    "\n",
    "Expo 2017 was widely recognized for its success in promoting green technology and sustainable development, leaving a long-term economic and environmental impact on Kazakhstan.\n",
    "\"\"\"\n",
    "\n",
    "doc = nlp(text)\n",
    "\n",
    "print(\"Extracted Named Entities:\")\n",
    "for ent in doc.ents:\n",
    "    print(f\"{ent.text} ({ent.label_})\")\n"
   ],
   "outputs": [
    {
     "name": "stdout",
     "output_type": "stream",
     "text": [
      "Extracted Named Entities:\n",
      "Kazakhstan (GPE)\n",
      "Astana (GPE)\n",
      "first (ORDINAL)\n",
      "Central Asian (NORP)\n",
      "over 4 million (CARDINAL)\n",
      "115 (CARDINAL)\n",
      "22 (CARDINAL)\n",
      "Future Energy (ORG)\n",
      "The United Nations (ORG)\n",
      "the World Bank (ORG)\n",
      "the European Union (ORG)\n",
      "the International Renewable Energy Agency (ORG)\n",
      "Emmanuel Macron (PERSON)\n",
      "Vladimir Putin (PERSON)\n",
      "Xi Jinping (PERSON)\n",
      "Kazakhstan (GPE)\n",
      "Tesla (ORG)\n",
      "Siemens (ORG)\n",
      "General Electric (ORG)\n",
      "Shell (ORG)\n",
      "Rosatom (PERSON)\n",
      "$3 billion (MONEY)\n",
      "Expo (EVENT)\n",
      "the Astana International Financial Centre (AIFC (ORG)\n",
      "Eurasia (GPE)\n",
      "Nazarbayev University (ORG)\n",
      "the Astana Hub (FAC)\n",
      "Kazakhstan (GPE)\n"
     ]
    }
   ],
   "execution_count": 29
  },
  {
   "cell_type": "markdown",
   "id": "6244ac6da021d2ea",
   "metadata": {},
   "source": [
    "## Шаг 3: Группировка сущностей по категориям (типам)\n",
    "\n",
    "Используем словарь для группировки сущностей по их типам (меткам).\n"
   ]
  },
  {
   "cell_type": "code",
   "id": "42fed69cd7023506",
   "metadata": {
    "ExecuteTime": {
     "end_time": "2025-03-12T16:41:42.037128Z",
     "start_time": "2025-03-12T16:41:42.034745Z"
    }
   },
   "source": [
    "from collections import defaultdict\n",
    "\n",
    "entities_by_label = defaultdict(list)\n",
    "\n",
    "for ent in doc.ents:\n",
    "    entities_by_label[ent.label_].append(ent.text)\n",
    "\n",
    "print(\"Сущности, сгруппированные по категориям:\")\n",
    "for label, entities in entities_by_label.items():\n",
    "    print(f\"{label}: {', '.join(entities)}\")\n"
   ],
   "outputs": [
    {
     "name": "stdout",
     "output_type": "stream",
     "text": [
      "Сущности, сгруппированные по категориям:\n",
      "GPE: Kazakhstan, Astana, Kazakhstan, Eurasia, Kazakhstan\n",
      "ORDINAL: first\n",
      "NORP: Central Asian\n",
      "CARDINAL: over 4 million, 115, 22\n",
      "ORG: Future Energy, The United Nations, the World Bank, the European Union, the International Renewable Energy Agency, Tesla, Siemens, General Electric, Shell, the Astana International Financial Centre (AIFC, Nazarbayev University\n",
      "PERSON: Emmanuel Macron, Vladimir Putin, Xi Jinping, Rosatom\n",
      "MONEY: $3 billion\n",
      "EVENT: Expo\n",
      "FAC: the Astana Hub\n"
     ]
    }
   ],
   "execution_count": 30
  },
  {
   "cell_type": "markdown",
   "id": "92ff265e54a492a2",
   "metadata": {},
   "source": [
    "## Шаг 4: Визуализация именованных сущностей с помощью displaCy\n",
    "\n",
    "Создаем визуализацию извлечённых сущностей и сохраняем её в HTML-файл.\n"
   ]
  },
  {
   "cell_type": "code",
   "id": "a638f49f9ef04775",
   "metadata": {
    "ExecuteTime": {
     "end_time": "2025-03-12T16:41:42.051765Z",
     "start_time": "2025-03-12T16:41:42.049054Z"
    }
   },
   "source": [
    "from spacy import displacy\n",
    "\n",
    "# Визуализация сущностей в Jupyter\n",
    "displacy.render(doc, style=\"ent\", jupyter=True)\n"
   ],
   "outputs": [
    {
     "data": {
      "text/plain": [
       "<IPython.core.display.HTML object>"
      ],
      "text/html": [
       "<span class=\"tex2jax_ignore\"><div class=\"entities\" style=\"line-height: 2.5; direction: ltr\"><br>\n",
       "<mark class=\"entity\" style=\"background: #feca74; padding: 0.45em 0.6em; margin: 0 0.25em; line-height: 1; border-radius: 0.35em;\">\n",
       "    Kazakhstan\n",
       "    <span style=\"font-size: 0.8em; font-weight: bold; line-height: 1; border-radius: 0.35em; vertical-align: middle; margin-left: 0.5rem\">GPE</span>\n",
       "</mark>\n",
       " hosted Expo 2017 in \n",
       "<mark class=\"entity\" style=\"background: #feca74; padding: 0.45em 0.6em; margin: 0 0.25em; line-height: 1; border-radius: 0.35em;\">\n",
       "    Astana\n",
       "    <span style=\"font-size: 0.8em; font-weight: bold; line-height: 1; border-radius: 0.35em; vertical-align: middle; margin-left: 0.5rem\">GPE</span>\n",
       "</mark>\n",
       ", marking the \n",
       "<mark class=\"entity\" style=\"background: #e4e7d2; padding: 0.45em 0.6em; margin: 0 0.25em; line-height: 1; border-radius: 0.35em;\">\n",
       "    first\n",
       "    <span style=\"font-size: 0.8em; font-weight: bold; line-height: 1; border-radius: 0.35em; vertical-align: middle; margin-left: 0.5rem\">ORDINAL</span>\n",
       "</mark>\n",
       " time a \n",
       "<mark class=\"entity\" style=\"background: #c887fb; padding: 0.45em 0.6em; margin: 0 0.25em; line-height: 1; border-radius: 0.35em;\">\n",
       "    Central Asian\n",
       "    <span style=\"font-size: 0.8em; font-weight: bold; line-height: 1; border-radius: 0.35em; vertical-align: middle; margin-left: 0.5rem\">NORP</span>\n",
       "</mark>\n",
       " country organized a world exposition.<br>The event attracted \n",
       "<mark class=\"entity\" style=\"background: #e4e7d2; padding: 0.45em 0.6em; margin: 0 0.25em; line-height: 1; border-radius: 0.35em;\">\n",
       "    over 4 million\n",
       "    <span style=\"font-size: 0.8em; font-weight: bold; line-height: 1; border-radius: 0.35em; vertical-align: middle; margin-left: 0.5rem\">CARDINAL</span>\n",
       "</mark>\n",
       " visitors from around the world and featured participation from \n",
       "<mark class=\"entity\" style=\"background: #e4e7d2; padding: 0.45em 0.6em; margin: 0 0.25em; line-height: 1; border-radius: 0.35em;\">\n",
       "    115\n",
       "    <span style=\"font-size: 0.8em; font-weight: bold; line-height: 1; border-radius: 0.35em; vertical-align: middle; margin-left: 0.5rem\">CARDINAL</span>\n",
       "</mark>\n",
       " countries and \n",
       "<mark class=\"entity\" style=\"background: #e4e7d2; padding: 0.45em 0.6em; margin: 0 0.25em; line-height: 1; border-radius: 0.35em;\">\n",
       "    22\n",
       "    <span style=\"font-size: 0.8em; font-weight: bold; line-height: 1; border-radius: 0.35em; vertical-align: middle; margin-left: 0.5rem\">CARDINAL</span>\n",
       "</mark>\n",
       " international organizations.<br>The theme of the exhibition was '\n",
       "<mark class=\"entity\" style=\"background: #7aecec; padding: 0.45em 0.6em; margin: 0 0.25em; line-height: 1; border-radius: 0.35em;\">\n",
       "    Future Energy\n",
       "    <span style=\"font-size: 0.8em; font-weight: bold; line-height: 1; border-radius: 0.35em; vertical-align: middle; margin-left: 0.5rem\">ORG</span>\n",
       "</mark>\n",
       ",' aiming to address global challenges related to renewable energy, energy efficiency, and environmental sustainability.<br>Pavilions showcased innovations in solar, wind, and hydro energy, as well as smart grid technologies.<br><br>\n",
       "<mark class=\"entity\" style=\"background: #7aecec; padding: 0.45em 0.6em; margin: 0 0.25em; line-height: 1; border-radius: 0.35em;\">\n",
       "    The United Nations\n",
       "    <span style=\"font-size: 0.8em; font-weight: bold; line-height: 1; border-radius: 0.35em; vertical-align: middle; margin-left: 0.5rem\">ORG</span>\n",
       "</mark>\n",
       ", \n",
       "<mark class=\"entity\" style=\"background: #7aecec; padding: 0.45em 0.6em; margin: 0 0.25em; line-height: 1; border-radius: 0.35em;\">\n",
       "    the World Bank\n",
       "    <span style=\"font-size: 0.8em; font-weight: bold; line-height: 1; border-radius: 0.35em; vertical-align: middle; margin-left: 0.5rem\">ORG</span>\n",
       "</mark>\n",
       ", \n",
       "<mark class=\"entity\" style=\"background: #7aecec; padding: 0.45em 0.6em; margin: 0 0.25em; line-height: 1; border-radius: 0.35em;\">\n",
       "    the European Union\n",
       "    <span style=\"font-size: 0.8em; font-weight: bold; line-height: 1; border-radius: 0.35em; vertical-align: middle; margin-left: 0.5rem\">ORG</span>\n",
       "</mark>\n",
       ", and \n",
       "<mark class=\"entity\" style=\"background: #7aecec; padding: 0.45em 0.6em; margin: 0 0.25em; line-height: 1; border-radius: 0.35em;\">\n",
       "    the International Renewable Energy Agency\n",
       "    <span style=\"font-size: 0.8em; font-weight: bold; line-height: 1; border-radius: 0.35em; vertical-align: middle; margin-left: 0.5rem\">ORG</span>\n",
       "</mark>\n",
       " (IRENA) were among the key participants.<br>Notable world leaders, including \n",
       "<mark class=\"entity\" style=\"background: #aa9cfc; padding: 0.45em 0.6em; margin: 0 0.25em; line-height: 1; border-radius: 0.35em;\">\n",
       "    Emmanuel Macron\n",
       "    <span style=\"font-size: 0.8em; font-weight: bold; line-height: 1; border-radius: 0.35em; vertical-align: middle; margin-left: 0.5rem\">PERSON</span>\n",
       "</mark>\n",
       ", \n",
       "<mark class=\"entity\" style=\"background: #aa9cfc; padding: 0.45em 0.6em; margin: 0 0.25em; line-height: 1; border-radius: 0.35em;\">\n",
       "    Vladimir Putin\n",
       "    <span style=\"font-size: 0.8em; font-weight: bold; line-height: 1; border-radius: 0.35em; vertical-align: middle; margin-left: 0.5rem\">PERSON</span>\n",
       "</mark>\n",
       ", and \n",
       "<mark class=\"entity\" style=\"background: #aa9cfc; padding: 0.45em 0.6em; margin: 0 0.25em; line-height: 1; border-radius: 0.35em;\">\n",
       "    Xi Jinping\n",
       "    <span style=\"font-size: 0.8em; font-weight: bold; line-height: 1; border-radius: 0.35em; vertical-align: middle; margin-left: 0.5rem\">PERSON</span>\n",
       "</mark>\n",
       ", visited the event, reinforcing \n",
       "<mark class=\"entity\" style=\"background: #feca74; padding: 0.45em 0.6em; margin: 0 0.25em; line-height: 1; border-radius: 0.35em;\">\n",
       "    Kazakhstan\n",
       "    <span style=\"font-size: 0.8em; font-weight: bold; line-height: 1; border-radius: 0.35em; vertical-align: middle; margin-left: 0.5rem\">GPE</span>\n",
       "</mark>\n",
       "'s role in international diplomacy.<br>During the exposition, major technology and energy corporations such as \n",
       "<mark class=\"entity\" style=\"background: #7aecec; padding: 0.45em 0.6em; margin: 0 0.25em; line-height: 1; border-radius: 0.35em;\">\n",
       "    Tesla\n",
       "    <span style=\"font-size: 0.8em; font-weight: bold; line-height: 1; border-radius: 0.35em; vertical-align: middle; margin-left: 0.5rem\">ORG</span>\n",
       "</mark>\n",
       ", \n",
       "<mark class=\"entity\" style=\"background: #7aecec; padding: 0.45em 0.6em; margin: 0 0.25em; line-height: 1; border-radius: 0.35em;\">\n",
       "    Siemens\n",
       "    <span style=\"font-size: 0.8em; font-weight: bold; line-height: 1; border-radius: 0.35em; vertical-align: middle; margin-left: 0.5rem\">ORG</span>\n",
       "</mark>\n",
       ", \n",
       "<mark class=\"entity\" style=\"background: #7aecec; padding: 0.45em 0.6em; margin: 0 0.25em; line-height: 1; border-radius: 0.35em;\">\n",
       "    General Electric\n",
       "    <span style=\"font-size: 0.8em; font-weight: bold; line-height: 1; border-radius: 0.35em; vertical-align: middle; margin-left: 0.5rem\">ORG</span>\n",
       "</mark>\n",
       ", \n",
       "<mark class=\"entity\" style=\"background: #7aecec; padding: 0.45em 0.6em; margin: 0 0.25em; line-height: 1; border-radius: 0.35em;\">\n",
       "    Shell\n",
       "    <span style=\"font-size: 0.8em; font-weight: bold; line-height: 1; border-radius: 0.35em; vertical-align: middle; margin-left: 0.5rem\">ORG</span>\n",
       "</mark>\n",
       ", and \n",
       "<mark class=\"entity\" style=\"background: #aa9cfc; padding: 0.45em 0.6em; margin: 0 0.25em; line-height: 1; border-radius: 0.35em;\">\n",
       "    Rosatom\n",
       "    <span style=\"font-size: 0.8em; font-weight: bold; line-height: 1; border-radius: 0.35em; vertical-align: middle; margin-left: 0.5rem\">PERSON</span>\n",
       "</mark>\n",
       " presented cutting-edge developments in sustainable energy.<br><br>The financial investment in the Expo 2017 infrastructure exceeded \n",
       "<mark class=\"entity\" style=\"background: #e4e7d2; padding: 0.45em 0.6em; margin: 0 0.25em; line-height: 1; border-radius: 0.35em;\">\n",
       "    $3 billion\n",
       "    <span style=\"font-size: 0.8em; font-weight: bold; line-height: 1; border-radius: 0.35em; vertical-align: middle; margin-left: 0.5rem\">MONEY</span>\n",
       "</mark>\n",
       ".<br>Following the event, the \n",
       "<mark class=\"entity\" style=\"background: #ffeb80; padding: 0.45em 0.6em; margin: 0 0.25em; line-height: 1; border-radius: 0.35em;\">\n",
       "    Expo\n",
       "    <span style=\"font-size: 0.8em; font-weight: bold; line-height: 1; border-radius: 0.35em; vertical-align: middle; margin-left: 0.5rem\">EVENT</span>\n",
       "</mark>\n",
       " site was transformed into \n",
       "<mark class=\"entity\" style=\"background: #7aecec; padding: 0.45em 0.6em; margin: 0 0.25em; line-height: 1; border-radius: 0.35em;\">\n",
       "    the Astana International Financial Centre (AIFC\n",
       "    <span style=\"font-size: 0.8em; font-weight: bold; line-height: 1; border-radius: 0.35em; vertical-align: middle; margin-left: 0.5rem\">ORG</span>\n",
       "</mark>\n",
       "), which became a hub for financial and technological innovation in \n",
       "<mark class=\"entity\" style=\"background: #feca74; padding: 0.45em 0.6em; margin: 0 0.25em; line-height: 1; border-radius: 0.35em;\">\n",
       "    Eurasia\n",
       "    <span style=\"font-size: 0.8em; font-weight: bold; line-height: 1; border-radius: 0.35em; vertical-align: middle; margin-left: 0.5rem\">GPE</span>\n",
       "</mark>\n",
       ".<br>Additionally, the area now hosts the \n",
       "<mark class=\"entity\" style=\"background: #7aecec; padding: 0.45em 0.6em; margin: 0 0.25em; line-height: 1; border-radius: 0.35em;\">\n",
       "    Nazarbayev University\n",
       "    <span style=\"font-size: 0.8em; font-weight: bold; line-height: 1; border-radius: 0.35em; vertical-align: middle; margin-left: 0.5rem\">ORG</span>\n",
       "</mark>\n",
       " research campus and \n",
       "<mark class=\"entity\" style=\"background: #9cc9cc; padding: 0.45em 0.6em; margin: 0 0.25em; line-height: 1; border-radius: 0.35em;\">\n",
       "    the Astana Hub\n",
       "    <span style=\"font-size: 0.8em; font-weight: bold; line-height: 1; border-radius: 0.35em; vertical-align: middle; margin-left: 0.5rem\">FAC</span>\n",
       "</mark>\n",
       " for IT startups.<br><br>Expo 2017 was widely recognized for its success in promoting green technology and sustainable development, leaving a long-term economic and environmental impact on \n",
       "<mark class=\"entity\" style=\"background: #feca74; padding: 0.45em 0.6em; margin: 0 0.25em; line-height: 1; border-radius: 0.35em;\">\n",
       "    Kazakhstan\n",
       "    <span style=\"font-size: 0.8em; font-weight: bold; line-height: 1; border-radius: 0.35em; vertical-align: middle; margin-left: 0.5rem\">GPE</span>\n",
       "</mark>\n",
       ".<br></div></span>"
      ]
     },
     "metadata": {},
     "output_type": "display_data"
    }
   ],
   "execution_count": 31
  },
  {
   "cell_type": "code",
   "id": "e0613d2431d018d5",
   "metadata": {
    "ExecuteTime": {
     "end_time": "2025-03-12T16:41:42.065383Z",
     "start_time": "2025-03-12T16:41:42.062586Z"
    }
   },
   "source": [
    "# Сохранение визуализации в HTML-файл (Исправленный код)\n",
    "html = displacy.render(doc, style=\"ent\", jupyter=False)  # Убираем page=True\n",
    "\n",
    "if html:  # Проверяем, что html не None\n",
    "    with open(\"ner_visualization.html\", \"w\", encoding=\"utf-8\") as f:\n",
    "        f.write(html)\n",
    "    print(\"HTML файл успешно сохранен!\")\n",
    "else:\n",
    "    print(\"Ошибка: displacy.render() вернул None.\")\n"
   ],
   "outputs": [
    {
     "name": "stdout",
     "output_type": "stream",
     "text": [
      "HTML файл успешно сохранен!\n"
     ]
    }
   ],
   "execution_count": 32
  },
  {
   "cell_type": "markdown",
   "id": "61a1dc005832d530",
   "metadata": {},
   "source": [
    "## Шаг 4: Добавление пользовательских сущностей вручную\n",
    "\n",
    "В случае, если модель не распознала нужные сущности, их можно добавить вручную.\n"
   ]
  },
  {
   "cell_type": "code",
   "id": "e67472dc67b6d7ca",
   "metadata": {
    "ExecuteTime": {
     "end_time": "2025-03-12T16:41:42.080585Z",
     "start_time": "2025-03-12T16:41:42.073015Z"
    }
   },
   "source": [
    "from spacy.tokens import Span\n",
    "\n",
    "custom_text = \"Satbayev University is one of the leading universities in Almaty.\"\n",
    "doc_custom = nlp(custom_text)  # Process text with spaCy\n",
    "\n",
    "# Создаем новую сущность (Satbayev University как ORG)\n",
    "new_entity = Span(doc_custom, 0, 2, label=\"ORG\")\n",
    "\n",
    "# Перезаписываем сущности с учетом новой\n",
    "doc_custom.set_ents([new_entity], default=\"unmodified\")\n",
    "\n",
    "# Печать обновленных сущностей\n",
    "print(\"Обновленные сущности:\")\n",
    "for ent in doc_custom.ents:\n",
    "    print(f\"{ent.text} ({ent.label_})\")\n",
    "\n",
    "# Визуализация в Jupyter Notebook\n",
    "displacy.render(doc_custom, style=\"ent\", jupyter=True)\n"
   ],
   "outputs": [
    {
     "name": "stdout",
     "output_type": "stream",
     "text": [
      "Обновленные сущности:\n",
      "Satbayev University (ORG)\n",
      "Almaty (GPE)\n"
     ]
    },
    {
     "data": {
      "text/plain": [
       "<IPython.core.display.HTML object>"
      ],
      "text/html": [
       "<span class=\"tex2jax_ignore\"><div class=\"entities\" style=\"line-height: 2.5; direction: ltr\">\n",
       "<mark class=\"entity\" style=\"background: #7aecec; padding: 0.45em 0.6em; margin: 0 0.25em; line-height: 1; border-radius: 0.35em;\">\n",
       "    Satbayev University\n",
       "    <span style=\"font-size: 0.8em; font-weight: bold; line-height: 1; border-radius: 0.35em; vertical-align: middle; margin-left: 0.5rem\">ORG</span>\n",
       "</mark>\n",
       " is one of the leading universities in \n",
       "<mark class=\"entity\" style=\"background: #feca74; padding: 0.45em 0.6em; margin: 0 0.25em; line-height: 1; border-radius: 0.35em;\">\n",
       "    Almaty\n",
       "    <span style=\"font-size: 0.8em; font-weight: bold; line-height: 1; border-radius: 0.35em; vertical-align: middle; margin-left: 0.5rem\">GPE</span>\n",
       "</mark>\n",
       ".</div></span>"
      ]
     },
     "metadata": {},
     "output_type": "display_data"
    }
   ],
   "execution_count": 33
  }
 ],
 "metadata": {
  "kernelspec": {
   "display_name": "Python 3 (ipykernel)",
   "language": "python",
   "name": "python3"
  },
  "language_info": {
   "codemirror_mode": {
    "name": "ipython",
    "version": 3
   },
   "file_extension": ".py",
   "mimetype": "text/x-python",
   "name": "python",
   "nbconvert_exporter": "python",
   "pygments_lexer": "ipython3",
   "version": "3.9.6"
  }
 },
 "nbformat": 4,
 "nbformat_minor": 5
}
