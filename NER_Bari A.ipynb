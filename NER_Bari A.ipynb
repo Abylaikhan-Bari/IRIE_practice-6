{
 "cells": [
  {
   "cell_type": "markdown",
   "id": "ac764bcd197650e7",
   "metadata": {},
   "source": [
    "# Практическое задание 6: Использование spaCy для Named Entity Recognition (NER)\n",
    "\n",
    "**Цель:**\n",
    "Освоить извлечение именованных сущностей (NER) из текста с помощью библиотеки spaCy, визуализировать сущности и добавить пользовательские сущности.\n"
   ]
  },
  {
   "cell_type": "markdown",
   "id": "557dadd85b449ae5",
   "metadata": {},
   "source": [
    "## Шаг 1: Установка spaCy и модели для английского языка\n",
    "\n",
    "Запуск следующих команд в терминале для установки spaCy и модели для английского языка:\n",
    "```bash\n",
    "pip install spacy\n",
    "python -m spacy download en_core_web_sm\n",
    "```\n"
   ]
  },
  {
   "cell_type": "code",
   "id": "49a0f07908bd8097",
   "metadata": {
    "ExecuteTime": {
     "end_time": "2025-03-13T14:27:39.660424Z",
     "start_time": "2025-03-13T14:27:39.488106Z"
    }
   },
   "source": [
    "import spacy\n",
    "\n",
    "# Загрузка модели\n",
    "nlp = spacy.load(\"en_core_web_sm\")\n"
   ],
   "outputs": [],
   "execution_count": 13
  },
  {
   "cell_type": "markdown",
   "id": "6202ce2fcf8a2a06",
   "metadata": {},
   "source": [
    "## Шаг 2: Извлечение именованных сущностей из текста\n",
    "\n",
    "Используйте spaCy для анализа текста и извлечения именованных сущностей.\n"
   ]
  },
  {
   "cell_type": "code",
   "id": "42dd77489c273519",
   "metadata": {
    "ExecuteTime": {
     "end_time": "2025-03-13T14:27:39.724787Z",
     "start_time": "2025-03-13T14:27:39.673435Z"
    }
   },
   "source": [
    "text = \"\"\"\n",
    "The Mars 2020 mission, launched by NASA on July 30, 2020, from Cape Canaveral Space Force Station, successfully landed the Perseverance rover on the surface of Mars on February 18, 2021.\n",
    "This marked a significant milestone in space exploration, as Perseverance was tasked with searching for signs of ancient microbial life and collecting samples for future missions.\n",
    "\n",
    "The rover, which carries the Ingenuity helicopter, landed in the Jezero Crater, an area believed to have hosted a lake billions of years ago. Scientists from the Jet Propulsion Laboratory (JPL) and the California Institute of Technology (Caltech) are leading the mission, collaborating with international space agencies, including the European Space Agency (ESA).\n",
    "\n",
    "Perseverance is equipped with advanced instruments such as the SuperCam, Mastcam-Z, and the PIXL (Planetary Instrument for X-ray Lithochemistry), which allow it to analyze the Martian surface.\n",
    "NASA estimates that the mission's total cost is approximately $2.7 billion.\n",
    "\n",
    "During its exploration, Perseverance has already sent thousands of images back to Earth, revealing details about the planet's geology and climate history. The Ingenuity helicopter, originally planned for five test flights, has exceeded expectations by completing more than 60 successful flights, proving the feasibility of powered flight in Mars' thin atmosphere.\n",
    "\n",
    "One of the mission’s most ambitious goals is the Mars Sample Return program, a joint initiative between NASA and ESA. The plan involves sending a retrieval mission by 2033 to collect the rock and soil samples gathered by Perseverance and bring them back to Earth for in-depth analysis.\n",
    "\n",
    "With the success of Perseverance and Ingenuity, NASA is preparing for future manned missions to Mars, potentially in the late 2030s. Private companies such as SpaceX, led by Elon Musk, are also developing technologies to support human exploration of the Red Planet.\n",
    "\n",
    "This mission is expected to pave the way for a deeper understanding of Mars, providing critical insights into planetary evolution, habitability, and the potential for human colonization in the future.\n",
    "\"\"\"\n",
    "\n",
    "doc = nlp(text)\n",
    "\n",
    "print(\"Extracted Named Entities:\")\n",
    "for ent in doc.ents:\n",
    "    print(f\"{ent.text} ({ent.label_})\")\n"
   ],
   "outputs": [
    {
     "name": "stdout",
     "output_type": "stream",
     "text": [
      "Extracted Named Entities:\n",
      "Mars 2020 (DATE)\n",
      "NASA (ORG)\n",
      "July 30, 2020 (DATE)\n",
      "Cape Canaveral Space Force Station (ORG)\n",
      "Perseverance (PERSON)\n",
      "Mars (LOC)\n",
      "February 18, 2021 (DATE)\n",
      "Perseverance (PERSON)\n",
      "Ingenuity (ORG)\n",
      "the Jezero Crater (LOC)\n",
      "billions of years ago (DATE)\n",
      "the Jet Propulsion Laboratory (ORG)\n",
      "JPL (ORG)\n",
      "the California Institute of Technology (ORG)\n",
      "Caltech (ORG)\n",
      "the European Space Agency (ORG)\n",
      "ESA (ORG)\n",
      "SuperCam (ORG)\n",
      "PIXL (ORG)\n",
      "Martian (NORP)\n",
      "NASA (ORG)\n",
      "approximately $2.7 billion (MONEY)\n",
      "Perseverance (PERSON)\n",
      "thousands (CARDINAL)\n",
      "Earth (LOC)\n",
      "Ingenuity (ORG)\n",
      "five (CARDINAL)\n",
      "more than 60 (CARDINAL)\n",
      "Mars (LOC)\n",
      "One (CARDINAL)\n",
      "the Mars Sample Return (LOC)\n",
      "NASA (ORG)\n",
      "ESA (ORG)\n",
      "2033 (DATE)\n",
      "Perseverance (PERSON)\n",
      "Earth (LOC)\n",
      "Perseverance and Ingenuity (ORG)\n",
      "NASA (ORG)\n",
      "Mars (LOC)\n",
      "the late 2030s (DATE)\n",
      "SpaceX (PERSON)\n",
      "Elon Musk (PERSON)\n",
      "the Red Planet (LOC)\n",
      "Mars (LOC)\n"
     ]
    }
   ],
   "execution_count": 14
  },
  {
   "cell_type": "markdown",
   "id": "6244ac6da021d2ea",
   "metadata": {},
   "source": [
    "## Шаг 3: Группировка сущностей по категориям (типам)\n",
    "\n",
    "Используем словарь для группировки сущностей по их типам (меткам).\n"
   ]
  },
  {
   "cell_type": "code",
   "id": "42fed69cd7023506",
   "metadata": {
    "ExecuteTime": {
     "end_time": "2025-03-13T14:27:39.748963Z",
     "start_time": "2025-03-13T14:27:39.746513Z"
    }
   },
   "source": [
    "from collections import defaultdict\n",
    "\n",
    "entities_by_label = defaultdict(list)\n",
    "\n",
    "for ent in doc.ents:\n",
    "    entities_by_label[ent.label_].append(ent.text)\n",
    "\n",
    "print(\"Сущности, сгруппированные по категориям:\")\n",
    "for label, entities in entities_by_label.items():\n",
    "    print(f\"{label}: {', '.join(entities)}\")\n"
   ],
   "outputs": [
    {
     "name": "stdout",
     "output_type": "stream",
     "text": [
      "Сущности, сгруппированные по категориям:\n",
      "DATE: Mars 2020, July 30, 2020, February 18, 2021, billions of years ago, 2033, the late 2030s\n",
      "ORG: NASA, Cape Canaveral Space Force Station, Ingenuity, the Jet Propulsion Laboratory, JPL, the California Institute of Technology, Caltech, the European Space Agency, ESA, SuperCam, PIXL, NASA, Ingenuity, NASA, ESA, Perseverance and Ingenuity, NASA\n",
      "PERSON: Perseverance, Perseverance, Perseverance, Perseverance, SpaceX, Elon Musk\n",
      "LOC: Mars, the Jezero Crater, Earth, Mars, the Mars Sample Return, Earth, Mars, the Red Planet, Mars\n",
      "NORP: Martian\n",
      "MONEY: approximately $2.7 billion\n",
      "CARDINAL: thousands, five, more than 60, One\n"
     ]
    }
   ],
   "execution_count": 15
  },
  {
   "cell_type": "markdown",
   "id": "92ff265e54a492a2",
   "metadata": {},
   "source": [
    "## Шаг 4: Визуализация именованных сущностей с помощью displaCy\n",
    "\n",
    "Создаем визуализацию извлечённых сущностей и сохраняем её в HTML-файл.\n"
   ]
  },
  {
   "cell_type": "code",
   "id": "a638f49f9ef04775",
   "metadata": {
    "ExecuteTime": {
     "end_time": "2025-03-13T14:27:39.765478Z",
     "start_time": "2025-03-13T14:27:39.762342Z"
    }
   },
   "source": [
    "from spacy import displacy\n",
    "\n",
    "# Визуализация сущностей в Jupyter\n",
    "displacy.render(doc, style=\"ent\", jupyter=True)\n"
   ],
   "outputs": [
    {
     "data": {
      "text/plain": [
       "<IPython.core.display.HTML object>"
      ],
      "text/html": [
       "<span class=\"tex2jax_ignore\"><div class=\"entities\" style=\"line-height: 2.5; direction: ltr\"><br>The \n",
       "<mark class=\"entity\" style=\"background: #bfe1d9; padding: 0.45em 0.6em; margin: 0 0.25em; line-height: 1; border-radius: 0.35em;\">\n",
       "    Mars 2020\n",
       "    <span style=\"font-size: 0.8em; font-weight: bold; line-height: 1; border-radius: 0.35em; vertical-align: middle; margin-left: 0.5rem\">DATE</span>\n",
       "</mark>\n",
       " mission, launched by \n",
       "<mark class=\"entity\" style=\"background: #7aecec; padding: 0.45em 0.6em; margin: 0 0.25em; line-height: 1; border-radius: 0.35em;\">\n",
       "    NASA\n",
       "    <span style=\"font-size: 0.8em; font-weight: bold; line-height: 1; border-radius: 0.35em; vertical-align: middle; margin-left: 0.5rem\">ORG</span>\n",
       "</mark>\n",
       " on \n",
       "<mark class=\"entity\" style=\"background: #bfe1d9; padding: 0.45em 0.6em; margin: 0 0.25em; line-height: 1; border-radius: 0.35em;\">\n",
       "    July 30, 2020\n",
       "    <span style=\"font-size: 0.8em; font-weight: bold; line-height: 1; border-radius: 0.35em; vertical-align: middle; margin-left: 0.5rem\">DATE</span>\n",
       "</mark>\n",
       ", from \n",
       "<mark class=\"entity\" style=\"background: #7aecec; padding: 0.45em 0.6em; margin: 0 0.25em; line-height: 1; border-radius: 0.35em;\">\n",
       "    Cape Canaveral Space Force Station\n",
       "    <span style=\"font-size: 0.8em; font-weight: bold; line-height: 1; border-radius: 0.35em; vertical-align: middle; margin-left: 0.5rem\">ORG</span>\n",
       "</mark>\n",
       ", successfully landed the \n",
       "<mark class=\"entity\" style=\"background: #aa9cfc; padding: 0.45em 0.6em; margin: 0 0.25em; line-height: 1; border-radius: 0.35em;\">\n",
       "    Perseverance\n",
       "    <span style=\"font-size: 0.8em; font-weight: bold; line-height: 1; border-radius: 0.35em; vertical-align: middle; margin-left: 0.5rem\">PERSON</span>\n",
       "</mark>\n",
       " rover on the surface of \n",
       "<mark class=\"entity\" style=\"background: #ff9561; padding: 0.45em 0.6em; margin: 0 0.25em; line-height: 1; border-radius: 0.35em;\">\n",
       "    Mars\n",
       "    <span style=\"font-size: 0.8em; font-weight: bold; line-height: 1; border-radius: 0.35em; vertical-align: middle; margin-left: 0.5rem\">LOC</span>\n",
       "</mark>\n",
       " on \n",
       "<mark class=\"entity\" style=\"background: #bfe1d9; padding: 0.45em 0.6em; margin: 0 0.25em; line-height: 1; border-radius: 0.35em;\">\n",
       "    February 18, 2021\n",
       "    <span style=\"font-size: 0.8em; font-weight: bold; line-height: 1; border-radius: 0.35em; vertical-align: middle; margin-left: 0.5rem\">DATE</span>\n",
       "</mark>\n",
       ".<br>This marked a significant milestone in space exploration, as \n",
       "<mark class=\"entity\" style=\"background: #aa9cfc; padding: 0.45em 0.6em; margin: 0 0.25em; line-height: 1; border-radius: 0.35em;\">\n",
       "    Perseverance\n",
       "    <span style=\"font-size: 0.8em; font-weight: bold; line-height: 1; border-radius: 0.35em; vertical-align: middle; margin-left: 0.5rem\">PERSON</span>\n",
       "</mark>\n",
       " was tasked with searching for signs of ancient microbial life and collecting samples for future missions.<br><br>The rover, which carries the \n",
       "<mark class=\"entity\" style=\"background: #7aecec; padding: 0.45em 0.6em; margin: 0 0.25em; line-height: 1; border-radius: 0.35em;\">\n",
       "    Ingenuity\n",
       "    <span style=\"font-size: 0.8em; font-weight: bold; line-height: 1; border-radius: 0.35em; vertical-align: middle; margin-left: 0.5rem\">ORG</span>\n",
       "</mark>\n",
       " helicopter, landed in \n",
       "<mark class=\"entity\" style=\"background: #ff9561; padding: 0.45em 0.6em; margin: 0 0.25em; line-height: 1; border-radius: 0.35em;\">\n",
       "    the Jezero Crater\n",
       "    <span style=\"font-size: 0.8em; font-weight: bold; line-height: 1; border-radius: 0.35em; vertical-align: middle; margin-left: 0.5rem\">LOC</span>\n",
       "</mark>\n",
       ", an area believed to have hosted a lake \n",
       "<mark class=\"entity\" style=\"background: #bfe1d9; padding: 0.45em 0.6em; margin: 0 0.25em; line-height: 1; border-radius: 0.35em;\">\n",
       "    billions of years ago\n",
       "    <span style=\"font-size: 0.8em; font-weight: bold; line-height: 1; border-radius: 0.35em; vertical-align: middle; margin-left: 0.5rem\">DATE</span>\n",
       "</mark>\n",
       ". Scientists from \n",
       "<mark class=\"entity\" style=\"background: #7aecec; padding: 0.45em 0.6em; margin: 0 0.25em; line-height: 1; border-radius: 0.35em;\">\n",
       "    the Jet Propulsion Laboratory\n",
       "    <span style=\"font-size: 0.8em; font-weight: bold; line-height: 1; border-radius: 0.35em; vertical-align: middle; margin-left: 0.5rem\">ORG</span>\n",
       "</mark>\n",
       " (\n",
       "<mark class=\"entity\" style=\"background: #7aecec; padding: 0.45em 0.6em; margin: 0 0.25em; line-height: 1; border-radius: 0.35em;\">\n",
       "    JPL\n",
       "    <span style=\"font-size: 0.8em; font-weight: bold; line-height: 1; border-radius: 0.35em; vertical-align: middle; margin-left: 0.5rem\">ORG</span>\n",
       "</mark>\n",
       ") and \n",
       "<mark class=\"entity\" style=\"background: #7aecec; padding: 0.45em 0.6em; margin: 0 0.25em; line-height: 1; border-radius: 0.35em;\">\n",
       "    the California Institute of Technology\n",
       "    <span style=\"font-size: 0.8em; font-weight: bold; line-height: 1; border-radius: 0.35em; vertical-align: middle; margin-left: 0.5rem\">ORG</span>\n",
       "</mark>\n",
       " (\n",
       "<mark class=\"entity\" style=\"background: #7aecec; padding: 0.45em 0.6em; margin: 0 0.25em; line-height: 1; border-radius: 0.35em;\">\n",
       "    Caltech\n",
       "    <span style=\"font-size: 0.8em; font-weight: bold; line-height: 1; border-radius: 0.35em; vertical-align: middle; margin-left: 0.5rem\">ORG</span>\n",
       "</mark>\n",
       ") are leading the mission, collaborating with international space agencies, including \n",
       "<mark class=\"entity\" style=\"background: #7aecec; padding: 0.45em 0.6em; margin: 0 0.25em; line-height: 1; border-radius: 0.35em;\">\n",
       "    the European Space Agency\n",
       "    <span style=\"font-size: 0.8em; font-weight: bold; line-height: 1; border-radius: 0.35em; vertical-align: middle; margin-left: 0.5rem\">ORG</span>\n",
       "</mark>\n",
       " (\n",
       "<mark class=\"entity\" style=\"background: #7aecec; padding: 0.45em 0.6em; margin: 0 0.25em; line-height: 1; border-radius: 0.35em;\">\n",
       "    ESA\n",
       "    <span style=\"font-size: 0.8em; font-weight: bold; line-height: 1; border-radius: 0.35em; vertical-align: middle; margin-left: 0.5rem\">ORG</span>\n",
       "</mark>\n",
       ").<br><br>Perseverance is equipped with advanced instruments such as the \n",
       "<mark class=\"entity\" style=\"background: #7aecec; padding: 0.45em 0.6em; margin: 0 0.25em; line-height: 1; border-radius: 0.35em;\">\n",
       "    SuperCam\n",
       "    <span style=\"font-size: 0.8em; font-weight: bold; line-height: 1; border-radius: 0.35em; vertical-align: middle; margin-left: 0.5rem\">ORG</span>\n",
       "</mark>\n",
       ", Mastcam-Z, and the \n",
       "<mark class=\"entity\" style=\"background: #7aecec; padding: 0.45em 0.6em; margin: 0 0.25em; line-height: 1; border-radius: 0.35em;\">\n",
       "    PIXL\n",
       "    <span style=\"font-size: 0.8em; font-weight: bold; line-height: 1; border-radius: 0.35em; vertical-align: middle; margin-left: 0.5rem\">ORG</span>\n",
       "</mark>\n",
       " (Planetary Instrument for X-ray Lithochemistry), which allow it to analyze the \n",
       "<mark class=\"entity\" style=\"background: #c887fb; padding: 0.45em 0.6em; margin: 0 0.25em; line-height: 1; border-radius: 0.35em;\">\n",
       "    Martian\n",
       "    <span style=\"font-size: 0.8em; font-weight: bold; line-height: 1; border-radius: 0.35em; vertical-align: middle; margin-left: 0.5rem\">NORP</span>\n",
       "</mark>\n",
       " surface.<br>\n",
       "<mark class=\"entity\" style=\"background: #7aecec; padding: 0.45em 0.6em; margin: 0 0.25em; line-height: 1; border-radius: 0.35em;\">\n",
       "    NASA\n",
       "    <span style=\"font-size: 0.8em; font-weight: bold; line-height: 1; border-radius: 0.35em; vertical-align: middle; margin-left: 0.5rem\">ORG</span>\n",
       "</mark>\n",
       " estimates that the mission's total cost is \n",
       "<mark class=\"entity\" style=\"background: #e4e7d2; padding: 0.45em 0.6em; margin: 0 0.25em; line-height: 1; border-radius: 0.35em;\">\n",
       "    approximately $2.7 billion\n",
       "    <span style=\"font-size: 0.8em; font-weight: bold; line-height: 1; border-radius: 0.35em; vertical-align: middle; margin-left: 0.5rem\">MONEY</span>\n",
       "</mark>\n",
       ".<br><br>During its exploration, \n",
       "<mark class=\"entity\" style=\"background: #aa9cfc; padding: 0.45em 0.6em; margin: 0 0.25em; line-height: 1; border-radius: 0.35em;\">\n",
       "    Perseverance\n",
       "    <span style=\"font-size: 0.8em; font-weight: bold; line-height: 1; border-radius: 0.35em; vertical-align: middle; margin-left: 0.5rem\">PERSON</span>\n",
       "</mark>\n",
       " has already sent \n",
       "<mark class=\"entity\" style=\"background: #e4e7d2; padding: 0.45em 0.6em; margin: 0 0.25em; line-height: 1; border-radius: 0.35em;\">\n",
       "    thousands\n",
       "    <span style=\"font-size: 0.8em; font-weight: bold; line-height: 1; border-radius: 0.35em; vertical-align: middle; margin-left: 0.5rem\">CARDINAL</span>\n",
       "</mark>\n",
       " of images back to \n",
       "<mark class=\"entity\" style=\"background: #ff9561; padding: 0.45em 0.6em; margin: 0 0.25em; line-height: 1; border-radius: 0.35em;\">\n",
       "    Earth\n",
       "    <span style=\"font-size: 0.8em; font-weight: bold; line-height: 1; border-radius: 0.35em; vertical-align: middle; margin-left: 0.5rem\">LOC</span>\n",
       "</mark>\n",
       ", revealing details about the planet's geology and climate history. The \n",
       "<mark class=\"entity\" style=\"background: #7aecec; padding: 0.45em 0.6em; margin: 0 0.25em; line-height: 1; border-radius: 0.35em;\">\n",
       "    Ingenuity\n",
       "    <span style=\"font-size: 0.8em; font-weight: bold; line-height: 1; border-radius: 0.35em; vertical-align: middle; margin-left: 0.5rem\">ORG</span>\n",
       "</mark>\n",
       " helicopter, originally planned for \n",
       "<mark class=\"entity\" style=\"background: #e4e7d2; padding: 0.45em 0.6em; margin: 0 0.25em; line-height: 1; border-radius: 0.35em;\">\n",
       "    five\n",
       "    <span style=\"font-size: 0.8em; font-weight: bold; line-height: 1; border-radius: 0.35em; vertical-align: middle; margin-left: 0.5rem\">CARDINAL</span>\n",
       "</mark>\n",
       " test flights, has exceeded expectations by completing \n",
       "<mark class=\"entity\" style=\"background: #e4e7d2; padding: 0.45em 0.6em; margin: 0 0.25em; line-height: 1; border-radius: 0.35em;\">\n",
       "    more than 60\n",
       "    <span style=\"font-size: 0.8em; font-weight: bold; line-height: 1; border-radius: 0.35em; vertical-align: middle; margin-left: 0.5rem\">CARDINAL</span>\n",
       "</mark>\n",
       " successful flights, proving the feasibility of powered flight in \n",
       "<mark class=\"entity\" style=\"background: #ff9561; padding: 0.45em 0.6em; margin: 0 0.25em; line-height: 1; border-radius: 0.35em;\">\n",
       "    Mars\n",
       "    <span style=\"font-size: 0.8em; font-weight: bold; line-height: 1; border-radius: 0.35em; vertical-align: middle; margin-left: 0.5rem\">LOC</span>\n",
       "</mark>\n",
       "' thin atmosphere.<br><br>\n",
       "<mark class=\"entity\" style=\"background: #e4e7d2; padding: 0.45em 0.6em; margin: 0 0.25em; line-height: 1; border-radius: 0.35em;\">\n",
       "    One\n",
       "    <span style=\"font-size: 0.8em; font-weight: bold; line-height: 1; border-radius: 0.35em; vertical-align: middle; margin-left: 0.5rem\">CARDINAL</span>\n",
       "</mark>\n",
       " of the mission’s most ambitious goals is \n",
       "<mark class=\"entity\" style=\"background: #ff9561; padding: 0.45em 0.6em; margin: 0 0.25em; line-height: 1; border-radius: 0.35em;\">\n",
       "    the Mars Sample Return\n",
       "    <span style=\"font-size: 0.8em; font-weight: bold; line-height: 1; border-radius: 0.35em; vertical-align: middle; margin-left: 0.5rem\">LOC</span>\n",
       "</mark>\n",
       " program, a joint initiative between \n",
       "<mark class=\"entity\" style=\"background: #7aecec; padding: 0.45em 0.6em; margin: 0 0.25em; line-height: 1; border-radius: 0.35em;\">\n",
       "    NASA\n",
       "    <span style=\"font-size: 0.8em; font-weight: bold; line-height: 1; border-radius: 0.35em; vertical-align: middle; margin-left: 0.5rem\">ORG</span>\n",
       "</mark>\n",
       " and \n",
       "<mark class=\"entity\" style=\"background: #7aecec; padding: 0.45em 0.6em; margin: 0 0.25em; line-height: 1; border-radius: 0.35em;\">\n",
       "    ESA\n",
       "    <span style=\"font-size: 0.8em; font-weight: bold; line-height: 1; border-radius: 0.35em; vertical-align: middle; margin-left: 0.5rem\">ORG</span>\n",
       "</mark>\n",
       ". The plan involves sending a retrieval mission by \n",
       "<mark class=\"entity\" style=\"background: #bfe1d9; padding: 0.45em 0.6em; margin: 0 0.25em; line-height: 1; border-radius: 0.35em;\">\n",
       "    2033\n",
       "    <span style=\"font-size: 0.8em; font-weight: bold; line-height: 1; border-radius: 0.35em; vertical-align: middle; margin-left: 0.5rem\">DATE</span>\n",
       "</mark>\n",
       " to collect the rock and soil samples gathered by \n",
       "<mark class=\"entity\" style=\"background: #aa9cfc; padding: 0.45em 0.6em; margin: 0 0.25em; line-height: 1; border-radius: 0.35em;\">\n",
       "    Perseverance\n",
       "    <span style=\"font-size: 0.8em; font-weight: bold; line-height: 1; border-radius: 0.35em; vertical-align: middle; margin-left: 0.5rem\">PERSON</span>\n",
       "</mark>\n",
       " and bring them back to \n",
       "<mark class=\"entity\" style=\"background: #ff9561; padding: 0.45em 0.6em; margin: 0 0.25em; line-height: 1; border-radius: 0.35em;\">\n",
       "    Earth\n",
       "    <span style=\"font-size: 0.8em; font-weight: bold; line-height: 1; border-radius: 0.35em; vertical-align: middle; margin-left: 0.5rem\">LOC</span>\n",
       "</mark>\n",
       " for in-depth analysis.<br><br>With the success of \n",
       "<mark class=\"entity\" style=\"background: #7aecec; padding: 0.45em 0.6em; margin: 0 0.25em; line-height: 1; border-radius: 0.35em;\">\n",
       "    Perseverance and Ingenuity\n",
       "    <span style=\"font-size: 0.8em; font-weight: bold; line-height: 1; border-radius: 0.35em; vertical-align: middle; margin-left: 0.5rem\">ORG</span>\n",
       "</mark>\n",
       ", \n",
       "<mark class=\"entity\" style=\"background: #7aecec; padding: 0.45em 0.6em; margin: 0 0.25em; line-height: 1; border-radius: 0.35em;\">\n",
       "    NASA\n",
       "    <span style=\"font-size: 0.8em; font-weight: bold; line-height: 1; border-radius: 0.35em; vertical-align: middle; margin-left: 0.5rem\">ORG</span>\n",
       "</mark>\n",
       " is preparing for future manned missions to \n",
       "<mark class=\"entity\" style=\"background: #ff9561; padding: 0.45em 0.6em; margin: 0 0.25em; line-height: 1; border-radius: 0.35em;\">\n",
       "    Mars\n",
       "    <span style=\"font-size: 0.8em; font-weight: bold; line-height: 1; border-radius: 0.35em; vertical-align: middle; margin-left: 0.5rem\">LOC</span>\n",
       "</mark>\n",
       ", potentially in \n",
       "<mark class=\"entity\" style=\"background: #bfe1d9; padding: 0.45em 0.6em; margin: 0 0.25em; line-height: 1; border-radius: 0.35em;\">\n",
       "    the late 2030s\n",
       "    <span style=\"font-size: 0.8em; font-weight: bold; line-height: 1; border-radius: 0.35em; vertical-align: middle; margin-left: 0.5rem\">DATE</span>\n",
       "</mark>\n",
       ". Private companies such as \n",
       "<mark class=\"entity\" style=\"background: #aa9cfc; padding: 0.45em 0.6em; margin: 0 0.25em; line-height: 1; border-radius: 0.35em;\">\n",
       "    SpaceX\n",
       "    <span style=\"font-size: 0.8em; font-weight: bold; line-height: 1; border-radius: 0.35em; vertical-align: middle; margin-left: 0.5rem\">PERSON</span>\n",
       "</mark>\n",
       ", led by \n",
       "<mark class=\"entity\" style=\"background: #aa9cfc; padding: 0.45em 0.6em; margin: 0 0.25em; line-height: 1; border-radius: 0.35em;\">\n",
       "    Elon Musk\n",
       "    <span style=\"font-size: 0.8em; font-weight: bold; line-height: 1; border-radius: 0.35em; vertical-align: middle; margin-left: 0.5rem\">PERSON</span>\n",
       "</mark>\n",
       ", are also developing technologies to support human exploration of \n",
       "<mark class=\"entity\" style=\"background: #ff9561; padding: 0.45em 0.6em; margin: 0 0.25em; line-height: 1; border-radius: 0.35em;\">\n",
       "    the Red Planet\n",
       "    <span style=\"font-size: 0.8em; font-weight: bold; line-height: 1; border-radius: 0.35em; vertical-align: middle; margin-left: 0.5rem\">LOC</span>\n",
       "</mark>\n",
       ".<br><br>This mission is expected to pave the way for a deeper understanding of \n",
       "<mark class=\"entity\" style=\"background: #ff9561; padding: 0.45em 0.6em; margin: 0 0.25em; line-height: 1; border-radius: 0.35em;\">\n",
       "    Mars\n",
       "    <span style=\"font-size: 0.8em; font-weight: bold; line-height: 1; border-radius: 0.35em; vertical-align: middle; margin-left: 0.5rem\">LOC</span>\n",
       "</mark>\n",
       ", providing critical insights into planetary evolution, habitability, and the potential for human colonization in the future.<br></div></span>"
      ]
     },
     "metadata": {},
     "output_type": "display_data"
    }
   ],
   "execution_count": 16
  },
  {
   "cell_type": "code",
   "id": "e0613d2431d018d5",
   "metadata": {
    "ExecuteTime": {
     "end_time": "2025-03-13T14:27:39.783819Z",
     "start_time": "2025-03-13T14:27:39.780730Z"
    }
   },
   "source": [
    "# Сохранение визуализации в HTML-файл\n",
    "html = displacy.render(doc, style=\"ent\", jupyter=False)  # Убираем page=True\n",
    "\n",
    "if html:  # Проверяем, что html не None\n",
    "    with open(\"ner_visualization.html\", \"w\", encoding=\"utf-8\") as f:\n",
    "        f.write(html)\n",
    "    print(\"HTML файл успешно сохранен!\")\n",
    "else:\n",
    "    print(\"Ошибка: displacy.render() вернул None.\")\n"
   ],
   "outputs": [
    {
     "name": "stdout",
     "output_type": "stream",
     "text": [
      "HTML файл успешно сохранен!\n"
     ]
    }
   ],
   "execution_count": 17
  },
  {
   "cell_type": "markdown",
   "id": "61a1dc005832d530",
   "metadata": {},
   "source": [
    "## Шаг 4: Добавление пользовательских сущностей вручную\n",
    "\n",
    "В случае, если модель не распознала нужные сущности, их можно добавить вручную.\n"
   ]
  },
  {
   "cell_type": "code",
   "id": "e67472dc67b6d7ca",
   "metadata": {
    "ExecuteTime": {
     "end_time": "2025-03-13T14:27:39.797764Z",
     "start_time": "2025-03-13T14:27:39.790429Z"
    }
   },
   "source": [
    "from spacy.tokens import Span\n",
    "\n",
    "custom_text = \"Satbayev University is one of the leading universities in Almaty.\"\n",
    "doc_custom = nlp(custom_text)  # Process text with spaCy\n",
    "\n",
    "# Создаем новую сущность (Satbayev University как ORG)\n",
    "new_entity = Span(doc_custom, 0, 2, label=\"ORG\")\n",
    "\n",
    "# Перезаписываем сущности с учетом новой\n",
    "doc_custom.set_ents([new_entity], default=\"unmodified\")\n",
    "\n",
    "# Печать обновленных сущностей\n",
    "print(\"Обновленные сущности:\")\n",
    "for ent in doc_custom.ents:\n",
    "    print(f\"{ent.text} ({ent.label_})\")\n",
    "\n",
    "# Визуализация в Jupyter Notebook\n",
    "displacy.render(doc_custom, style=\"ent\", jupyter=True)\n"
   ],
   "outputs": [
    {
     "name": "stdout",
     "output_type": "stream",
     "text": [
      "Обновленные сущности:\n",
      "Satbayev University (ORG)\n",
      "Almaty (GPE)\n"
     ]
    },
    {
     "data": {
      "text/plain": [
       "<IPython.core.display.HTML object>"
      ],
      "text/html": [
       "<span class=\"tex2jax_ignore\"><div class=\"entities\" style=\"line-height: 2.5; direction: ltr\">\n",
       "<mark class=\"entity\" style=\"background: #7aecec; padding: 0.45em 0.6em; margin: 0 0.25em; line-height: 1; border-radius: 0.35em;\">\n",
       "    Satbayev University\n",
       "    <span style=\"font-size: 0.8em; font-weight: bold; line-height: 1; border-radius: 0.35em; vertical-align: middle; margin-left: 0.5rem\">ORG</span>\n",
       "</mark>\n",
       " is one of the leading universities in \n",
       "<mark class=\"entity\" style=\"background: #feca74; padding: 0.45em 0.6em; margin: 0 0.25em; line-height: 1; border-radius: 0.35em;\">\n",
       "    Almaty\n",
       "    <span style=\"font-size: 0.8em; font-weight: bold; line-height: 1; border-radius: 0.35em; vertical-align: middle; margin-left: 0.5rem\">GPE</span>\n",
       "</mark>\n",
       ".</div></span>"
      ]
     },
     "metadata": {},
     "output_type": "display_data"
    }
   ],
   "execution_count": 18
  }
 ],
 "metadata": {
  "kernelspec": {
   "display_name": "Python 3 (ipykernel)",
   "language": "python",
   "name": "python3"
  },
  "language_info": {
   "codemirror_mode": {
    "name": "ipython",
    "version": 3
   },
   "file_extension": ".py",
   "mimetype": "text/x-python",
   "name": "python",
   "nbconvert_exporter": "python",
   "pygments_lexer": "ipython3",
   "version": "3.9.6"
  }
 },
 "nbformat": 4,
 "nbformat_minor": 5
}
